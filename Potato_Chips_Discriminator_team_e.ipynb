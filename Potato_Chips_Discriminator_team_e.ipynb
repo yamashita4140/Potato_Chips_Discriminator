{
  "nbformat": 4,
  "nbformat_minor": 0,
  "metadata": {
    "colab": {
      "name": "potechi_buster_team_e.ipynb",
      "provenance": [],
      "collapsed_sections": [],
      "include_colab_link": true
    },
    "kernelspec": {
      "name": "python3",
      "display_name": "Python 3"
    },
    "accelerator": "GPU"
  },
  "cells": [
    {
      "cell_type": "markdown",
      "metadata": {
        "id": "view-in-github",
        "colab_type": "text"
      },
      "source": [
        "<a href=\"https://colab.research.google.com/github/yamashita4140/potechi_buster/blob/master/potechi_buster_team_e.ipynb\" target=\"_parent\"><img src=\"https://colab.research.google.com/assets/colab-badge.svg\" alt=\"Open In Colab\"/></a>"
      ]
    },
    {
      "cell_type": "code",
      "metadata": {
        "id": "2gO8Qo8pudFY"
      },
      "source": [
        "# モジュールのインポート\r\n",
        "\r\n",
        "import numpy as np\r\n",
        "from keras.models import Sequential\r\n",
        "from keras.layers import Dense, Dropout, Flatten\r\n",
        "from keras.layers import Conv2D, MaxPooling2D\r\n",
        "from keras.optimizers import RMSprop\r\n",
        "from keras.preprocessing.image import img_to_array, load_img\r\n",
        "from keras.utils import to_categorical\r\n",
        "from sklearn.model_selection import train_test_split\r\n",
        "import japanize_matplotlib\r\n",
        "\r\n",
        "\r\n",
        "import re\r\n",
        "import os\r\n",
        "import pickle\r\n"
      ],
      "execution_count": 2,
      "outputs": []
    },
    {
      "cell_type": "code",
      "metadata": {
        "id": "YuTS8WxQkdzd"
      },
      "source": [
        "# イメージリストの取得\r\n",
        "\r\n",
        "def list_imgs(directory, ext=\"jpg|jpeg|bmp|png|ppm\"):\r\n",
        "    return [os.path.join(root, f) for root, _, files in os.walk(directory) for f in files if\r\n",
        "            re.match(r'([\\w]+\\.(?:' + ext + '))', f.lower())]"
      ],
      "execution_count": 3,
      "outputs": []
    },
    {
      "cell_type": "code",
      "metadata": {
        "id": "ziwCo1hm1c2k",
        "colab": {
          "base_uri": "https://localhost:8080/"
        },
        "outputId": "c5c8b8e2-4fb9-4dfc-fe38-5b10ad281249"
      },
      "source": [
        "from google.colab import drive\n",
        "drive.mount('/content/drive')"
      ],
      "execution_count": 4,
      "outputs": [
        {
          "output_type": "stream",
          "text": [
            "Mounted at /content/drive\n"
          ],
          "name": "stdout"
        }
      ]
    },
    {
      "cell_type": "code",
      "metadata": {
        "id": "Ma_zqlWlvH05"
      },
      "source": [
        "\r\n",
        "# HyperParameters\r\n",
        "batch_size = 90  # SampleProgram:5\r\n",
        "num_classes = 7  # 分類クラス数(ポテチ7種)\r\n",
        "epochs = 60  # 学習の繰り返し回数(SampleProgram:200)\r\n",
        "dropout_rate = 0.2  # 過学習防止用(SampleProgram:0.2)\r\n",
        "\r\n",
        "# 入力画像のパラメータ\r\n",
        "img_width = 64  # 入力画像の幅\r\n",
        "img_height = 64  # 入力画像の高さ\r\n",
        "img_ch = 3  # 3ch(RGB)\r\n",
        "# grayscale=True\r\n",
        "\r\n",
        "# データ格納用ディレクトリパス\r\n",
        "SAVE_DATA_DIR_PATH = \"/content/drive/MyDrive/Hackason_E_team/image/\"\r\n",
        "os.makedirs(SAVE_DATA_DIR_PATH, exist_ok=True)\r\n",
        "\r\n",
        "# グラフ画像のサイズ\r\n",
        "FIG_SIZE_WIDTH = 12\r\n",
        "FIG_SIZE_HEIGHT = 10\r\n",
        "FIG_FONT_SIZE = 25\r\n",
        "\r\n",
        "    "
      ],
      "execution_count": 5,
      "outputs": []
    },
    {
      "cell_type": "code",
      "metadata": {
        "id": "1FdwyKiNvr0A"
      },
      "source": [
        "data_x = []  # データ本体\r\n",
        "data_y = []  # 正解ラベル\r\n",
        "num_classes = 7\r\n",
        "\r\n",
        "# クラス0(コンソメパンチ)の画像データ群を読み込み\r\n",
        "for filepath in list_imgs(SAVE_DATA_DIR_PATH + \"csp\"):\r\n",
        "    img = img_to_array(load_img(filepath, target_size=(img_width, img_height, img_ch)))\r\n",
        "    # img = img_to_array(load_img(filepath, grayscale=True,target_size=(img_width, img_height)))\r\n",
        "    data_x.append(img)\r\n",
        "    data_y.append(0)  # 正解ラベル\r\n",
        "\r\n",
        "# クラス1(九州しょうゆ)の画像データ群を読み込み\r\n",
        "for filepath in list_imgs(SAVE_DATA_DIR_PATH + \"kss\"):\r\n",
        "    img = img_to_array(load_img(filepath, target_size=(img_width, img_height, img_ch)))\r\n",
        "    # img = img_to_array(load_img(filepath, grayscale=True,target_size=(img_width, img_height)))\r\n",
        "    data_x.append(img)\r\n",
        "    data_y.append(1)  # 正解ラベル\r\n",
        "\r\n",
        "# クラス2(のりしお)の画像データ群を読み込み\r\n",
        "for filepath in list_imgs(SAVE_DATA_DIR_PATH + \"nrs\"):\r\n",
        "    img = img_to_array(load_img(filepath, target_size=(img_width, img_height, img_ch)))\r\n",
        "    # img = img_to_array(load_img(filepath, grayscale=True,target_size=(img_width, img_height)))\r\n",
        "    data_x.append(img)\r\n",
        "    data_y.append(2)  # 正解ラベル\r\n",
        "\r\n",
        "# クラス3(のりしおパンチ)の画像データ群を読み込み\r\n",
        "for filepath in list_imgs(SAVE_DATA_DIR_PATH + \"nrp\"):\r\n",
        "    img = img_to_array(load_img(filepath, target_size=(img_width, img_height, img_ch)))\r\n",
        "    # img = img_to_array(load_img(filepath, grayscale=True,target_size=(img_width, img_height)))\r\n",
        "    data_x.append(img)\r\n",
        "    data_y.append(3)  # 正解ラベル\r\n",
        "\r\n",
        "# クラス4(しあわせバター)の画像データ群を読み込み\r\n",
        "for filepath in list_imgs(SAVE_DATA_DIR_PATH + \"swb\"):\r\n",
        "    img = img_to_array(load_img(filepath, target_size=(img_width, img_height, img_ch)))\r\n",
        "    # img = img_to_array(load_img(filepath, grayscale=True,target_size=(img_width, img_height)))\r\n",
        "    data_x.append(img)\r\n",
        "    data_y.append(4)  # 正解ラベル\r\n",
        "\r\n",
        "# クラス5(しょうゆマヨ)の画像データ群を読み込み\r\n",
        "for filepath in list_imgs(SAVE_DATA_DIR_PATH + \"shm\"):\r\n",
        "    img = img_to_array(load_img(filepath, target_size=(img_width, img_height, img_ch)))\r\n",
        "    # img = img_to_array(load_img(filepath, grayscale=True,target_size=(img_width, img_height)))\r\n",
        "    data_x.append(img)\r\n",
        "    data_y.append(5)  # 正解ラベル\r\n",
        "\r\n",
        "# クラス6(うすしお)の画像データ群を読み込み\r\n",
        "for filepath in list_imgs(SAVE_DATA_DIR_PATH + \"usu\"):\r\n",
        "    img = img_to_array(load_img(filepath, target_size=(img_width, img_height, img_ch)))\r\n",
        "    # img = img_to_array(load_img(filepath, grayscale=True,target_size=(img_width, img_height)))\r\n",
        "    data_x.append(img)\r\n",
        "    data_y.append(6)  # 正解ラベル"
      ],
      "execution_count": 6,
      "outputs": []
    },
    {
      "cell_type": "code",
      "metadata": {
        "id": "Efrb7s5bwwVt"
      },
      "source": [
        "# NumPy配列に変換\r\n",
        "data_x = np.asarray(data_x)\r\n",
        "data_y = np.asarray(data_y)\r\n",
        "\r\n",
        "# 学習用データとテストデータに分割(テストデータ2割)\r\n",
        "x_train, x_test, y_train, y_test = train_test_split(data_x, data_y, test_size=0.2)\r\n",
        "y_test_before=y_test\r\n",
        "y_train_before=y_train\r\n",
        "\r\n",
        "# float32に変換、正規化\r\n",
        "x_train = x_train.astype(\"float32\")\r\n",
        "x_test = x_test.astype(\"float32\")\r\n",
        "x_train /= 255\r\n",
        "x_test /= 255"
      ],
      "execution_count": 7,
      "outputs": []
    },
    {
      "cell_type": "code",
      "metadata": {
        "id": "UJTwFYEywtgL",
        "colab": {
          "base_uri": "https://localhost:8080/"
        },
        "outputId": "cc55953b-e190-452d-b071-3d6d3d442c75"
      },
      "source": [
        "    # 正解ラベルを\"one-hot encoding\"\r\n",
        "    y_train = to_categorical(y_train, num_classes)\r\n",
        "    y_test = to_categorical(y_test, num_classes)\r\n",
        "\r\n",
        "    # データセットの個数を表示\r\n",
        "    print(x_train.shape, \"x train samples\")\r\n",
        "    print(x_test.shape, \"x test samples\")\r\n",
        "    print(y_train.shape, \"y train samples\")\r\n",
        "    print(y_test.shape, \"y test samples\")"
      ],
      "execution_count": 8,
      "outputs": [
        {
          "output_type": "stream",
          "text": [
            "(1015, 64, 64, 3) x train samples\n",
            "(254, 64, 64, 3) x test samples\n",
            "(1015, 7) y train samples\n",
            "(254, 7) y test samples\n"
          ],
          "name": "stdout"
        }
      ]
    },
    {
      "cell_type": "code",
      "metadata": {
        "id": "FEFYhRKfw1iW",
        "colab": {
          "base_uri": "https://localhost:8080/"
        },
        "outputId": "fb4a9865-6025-4481-e4eb-2a21e2fd65f1"
      },
      "source": [
        "    # モデル構築\r\n",
        "    model = Sequential()\r\n",
        "\r\n",
        "    # 入力層:64*64*3\r\n",
        "    # 2次元畳込み層\r\n",
        "    # Conv2D:2次元畳込み層で、画像から特徴を抽出(活性化関数:relu)\r\n",
        "    # 入力データにカーネルをかける(3*3の32種類のフィルタを各マスにかける)\r\n",
        "    # 出力ユニット数:32(32枚分の出力データが得られる)\r\n",
        "    model.add(Conv2D(32, (3, 3),\r\n",
        "                     padding=\"same\",\r\n",
        "                     input_shape=x_train.shape[1:],\r\n",
        "                     activation=\"relu\"))\r\n",
        "\r\n",
        "    # 2次元畳込み層\r\n",
        "    model.add(Conv2D(32, (3, 3),\r\n",
        "                     padding=\"same\",\r\n",
        "                     activation=\"relu\"))\r\n",
        "\r\n",
        "    # プーリング層\r\n",
        "    # 特徴量を圧縮する層\r\n",
        "    # 畳み込み層で抽出された特徴のいち感度を若干低下させ、\r\n",
        "    # 対象とする特徴量の画像内での位置が若干変化した場合でも、\r\n",
        "    # プーリング層の出力が普遍になるようにする。\r\n",
        "    # 画像の空間サイズの大きさを小さくし、調整するパラメータ数を減らし、過学習を防止\r\n",
        "    # pool_size=(2,2):2*2の大きさの最大プーリング層\r\n",
        "    # 入力画像内の2*2の領域で最大の数値を出力\r\n",
        "    model.add(MaxPooling2D(pool_size=(2, 2)))\r\n",
        "\r\n",
        "    # ドロップアウト(過学習防止)\r\n",
        "    model.add(Dropout(dropout_rate))\r\n",
        "\r\n",
        "    # 2次元畳込み層\r\n",
        "    # 3*3の64種類のフィルタ\r\n",
        "    # 出力ユニット数:64\r\n",
        "    model.add(Conv2D(64, (3, 3),\r\n",
        "                     padding=\"same\",\r\n",
        "                     activation=\"relu\"))\r\n",
        "\r\n",
        "    # 2次元畳込み層\r\n",
        "    # 3*3の64種類のフィルタ\r\n",
        "    # 出力ユニット数:64\r\n",
        "    model.add(Conv2D(64, (3, 3),\r\n",
        "                     padding=\"same\",\r\n",
        "                     activation=\"relu\"))\r\n",
        "\r\n",
        "    # プーリング層\r\n",
        "    model.add(MaxPooling2D(pool_size=(2, 2)))\r\n",
        "\r\n",
        "    # ドロップアウト\r\n",
        "    model.add(Dropout(dropout_rate))\r\n",
        "\r\n",
        "    # 1次元ベクトル化\r\n",
        "    model.add(Flatten())\r\n",
        "\r\n",
        "    # 全結合層\r\n",
        "    # 出力ユニット数:512\r\n",
        "    model.add(Dense(512, activation=\"relu\"))\r\n",
        "\r\n",
        "    # ドロップアウト\r\n",
        "    model.add(Dropout(dropout_rate))\r\n",
        "\r\n",
        "    # 全結合層\r\n",
        "    # 7分類なのでユニット数7。活性化関数はsoftmax関数\r\n",
        "    # Softmax関数で総和が1となるように、各出力の予測確率を計算\r\n",
        "    model.add(Dense(num_classes, activation=\"softmax\"))\r\n",
        "\r\n",
        "    # モデル構造の表示\r\n",
        "    model.summary()\r\n",
        "\r\n",
        "    # コンパイル(多クラス分類問題)\r\n",
        "    # 最適化:RMSprop\r\n",
        "    model.compile(loss=\"categorical_crossentropy\", optimizer=RMSprop(), metrics=[\"accuracy\"])"
      ],
      "execution_count": 9,
      "outputs": [
        {
          "output_type": "stream",
          "text": [
            "Model: \"sequential\"\n",
            "_________________________________________________________________\n",
            "Layer (type)                 Output Shape              Param #   \n",
            "=================================================================\n",
            "conv2d (Conv2D)              (None, 64, 64, 32)        896       \n",
            "_________________________________________________________________\n",
            "conv2d_1 (Conv2D)            (None, 64, 64, 32)        9248      \n",
            "_________________________________________________________________\n",
            "max_pooling2d (MaxPooling2D) (None, 32, 32, 32)        0         \n",
            "_________________________________________________________________\n",
            "dropout (Dropout)            (None, 32, 32, 32)        0         \n",
            "_________________________________________________________________\n",
            "conv2d_2 (Conv2D)            (None, 32, 32, 64)        18496     \n",
            "_________________________________________________________________\n",
            "conv2d_3 (Conv2D)            (None, 32, 32, 64)        36928     \n",
            "_________________________________________________________________\n",
            "max_pooling2d_1 (MaxPooling2 (None, 16, 16, 64)        0         \n",
            "_________________________________________________________________\n",
            "dropout_1 (Dropout)          (None, 16, 16, 64)        0         \n",
            "_________________________________________________________________\n",
            "flatten (Flatten)            (None, 16384)             0         \n",
            "_________________________________________________________________\n",
            "dense (Dense)                (None, 512)               8389120   \n",
            "_________________________________________________________________\n",
            "dropout_2 (Dropout)          (None, 512)               0         \n",
            "_________________________________________________________________\n",
            "dense_1 (Dense)              (None, 7)                 3591      \n",
            "=================================================================\n",
            "Total params: 8,458,279\n",
            "Trainable params: 8,458,279\n",
            "Non-trainable params: 0\n",
            "_________________________________________________________________\n"
          ],
          "name": "stdout"
        }
      ]
    },
    {
      "cell_type": "code",
      "metadata": {
        "id": "i4xWyGtoxJpu",
        "colab": {
          "base_uri": "https://localhost:8080/"
        },
        "outputId": "f950425f-f938-4d06-f6e4-100d0766d709"
      },
      "source": [
        "    # 学習\r\n",
        "    # verbose=1:標準出力にログを表示\r\n",
        "    history = model.fit(x_train,\r\n",
        "                        y_train,\r\n",
        "                        batch_size=batch_size,\r\n",
        "                        epochs=epochs,\r\n",
        "                        verbose=1,\r\n",
        "                        validation_split=0.1)\r\n",
        "    # テスト用データセットで学習済分類器に入力し、パフォーマンス計測\r\n",
        "    score = model.evaluate(x_test,\r\n",
        "                           y_test,\r\n",
        "                           verbose=0)\r\n",
        "    # 結果表示\r\n",
        "    # 損失値(値が小さいほど良い)\r\n",
        "    print(\"Validation loss:\", score[0])\r\n",
        "\r\n",
        "    # 正答率(値が大きいほど良い)\r\n",
        "    print(\"Validation accuracy:\", score[1])\r\n",
        "\r\n",
        "\r\n",
        "   "
      ],
      "execution_count": 10,
      "outputs": [
        {
          "output_type": "stream",
          "text": [
            "Epoch 1/60\n",
            "11/11 [==============================] - 8s 76ms/step - loss: 3.2799 - accuracy: 0.1455 - val_loss: 1.9418 - val_accuracy: 0.1667\n",
            "Epoch 2/60\n",
            "11/11 [==============================] - 0s 27ms/step - loss: 1.9389 - accuracy: 0.1728 - val_loss: 2.0002 - val_accuracy: 0.0882\n",
            "Epoch 3/60\n",
            "11/11 [==============================] - 0s 27ms/step - loss: 1.9917 - accuracy: 0.1990 - val_loss: 1.8241 - val_accuracy: 0.4118\n",
            "Epoch 4/60\n",
            "11/11 [==============================] - 0s 28ms/step - loss: 1.6779 - accuracy: 0.3366 - val_loss: 1.4775 - val_accuracy: 0.5490\n",
            "Epoch 5/60\n",
            "11/11 [==============================] - 0s 28ms/step - loss: 1.4832 - accuracy: 0.4368 - val_loss: 1.3173 - val_accuracy: 0.5784\n",
            "Epoch 6/60\n",
            "11/11 [==============================] - 0s 27ms/step - loss: 1.1477 - accuracy: 0.5892 - val_loss: 1.5026 - val_accuracy: 0.5784\n",
            "Epoch 7/60\n",
            "11/11 [==============================] - 0s 28ms/step - loss: 1.0620 - accuracy: 0.6318 - val_loss: 1.7575 - val_accuracy: 0.4902\n",
            "Epoch 8/60\n",
            "11/11 [==============================] - 0s 27ms/step - loss: 1.0586 - accuracy: 0.6472 - val_loss: 0.8709 - val_accuracy: 0.6863\n",
            "Epoch 9/60\n",
            "11/11 [==============================] - 0s 28ms/step - loss: 0.6352 - accuracy: 0.7781 - val_loss: 0.8819 - val_accuracy: 0.6765\n",
            "Epoch 10/60\n",
            "11/11 [==============================] - 0s 40ms/step - loss: 0.5249 - accuracy: 0.8003 - val_loss: 1.0723 - val_accuracy: 0.6275\n",
            "Epoch 11/60\n",
            "11/11 [==============================] - 0s 27ms/step - loss: 0.5275 - accuracy: 0.8252 - val_loss: 0.4802 - val_accuracy: 0.8137\n",
            "Epoch 12/60\n",
            "11/11 [==============================] - 0s 28ms/step - loss: 0.3090 - accuracy: 0.9132 - val_loss: 0.5475 - val_accuracy: 0.8039\n",
            "Epoch 13/60\n",
            "11/11 [==============================] - 0s 28ms/step - loss: 0.2161 - accuracy: 0.9258 - val_loss: 0.3978 - val_accuracy: 0.8529\n",
            "Epoch 14/60\n",
            "11/11 [==============================] - 0s 28ms/step - loss: 0.1495 - accuracy: 0.9558 - val_loss: 0.4444 - val_accuracy: 0.8627\n",
            "Epoch 15/60\n",
            "11/11 [==============================] - 0s 27ms/step - loss: 0.0773 - accuracy: 0.9757 - val_loss: 0.3960 - val_accuracy: 0.8824\n",
            "Epoch 16/60\n",
            "11/11 [==============================] - 0s 28ms/step - loss: 0.0757 - accuracy: 0.9765 - val_loss: 0.4173 - val_accuracy: 0.9020\n",
            "Epoch 17/60\n",
            "11/11 [==============================] - 0s 28ms/step - loss: 0.0439 - accuracy: 0.9847 - val_loss: 0.5752 - val_accuracy: 0.8922\n",
            "Epoch 18/60\n",
            "11/11 [==============================] - 0s 27ms/step - loss: 0.0357 - accuracy: 0.9898 - val_loss: 0.4297 - val_accuracy: 0.8922\n",
            "Epoch 19/60\n",
            "11/11 [==============================] - 0s 28ms/step - loss: 0.0370 - accuracy: 0.9874 - val_loss: 2.5332 - val_accuracy: 0.4314\n",
            "Epoch 20/60\n",
            "11/11 [==============================] - 0s 28ms/step - loss: 0.5866 - accuracy: 0.8378 - val_loss: 0.2755 - val_accuracy: 0.9314\n",
            "Epoch 21/60\n",
            "11/11 [==============================] - 0s 28ms/step - loss: 0.0066 - accuracy: 0.9995 - val_loss: 0.5407 - val_accuracy: 0.8333\n",
            "Epoch 22/60\n",
            "11/11 [==============================] - 0s 29ms/step - loss: 0.0625 - accuracy: 0.9797 - val_loss: 0.2002 - val_accuracy: 0.9510\n",
            "Epoch 23/60\n",
            "11/11 [==============================] - 0s 29ms/step - loss: 0.0028 - accuracy: 1.0000 - val_loss: 0.2334 - val_accuracy: 0.9216\n",
            "Epoch 24/60\n",
            "11/11 [==============================] - 0s 28ms/step - loss: 0.0011 - accuracy: 1.0000 - val_loss: 0.2334 - val_accuracy: 0.9412\n",
            "Epoch 25/60\n",
            "11/11 [==============================] - 0s 28ms/step - loss: 0.0019 - accuracy: 1.0000 - val_loss: 0.4036 - val_accuracy: 0.9118\n",
            "Epoch 26/60\n",
            "11/11 [==============================] - 0s 29ms/step - loss: 0.6713 - accuracy: 0.9033 - val_loss: 0.3048 - val_accuracy: 0.9216\n",
            "Epoch 27/60\n",
            "11/11 [==============================] - 0s 28ms/step - loss: 0.0062 - accuracy: 1.0000 - val_loss: 0.3162 - val_accuracy: 0.9216\n",
            "Epoch 28/60\n",
            "11/11 [==============================] - 0s 28ms/step - loss: 0.0017 - accuracy: 1.0000 - val_loss: 0.3428 - val_accuracy: 0.9118\n",
            "Epoch 29/60\n",
            "11/11 [==============================] - 0s 29ms/step - loss: 6.7721e-04 - accuracy: 1.0000 - val_loss: 0.3176 - val_accuracy: 0.9314\n",
            "Epoch 30/60\n",
            "11/11 [==============================] - 0s 29ms/step - loss: 4.2120e-04 - accuracy: 1.0000 - val_loss: 0.3147 - val_accuracy: 0.9314\n",
            "Epoch 31/60\n",
            "11/11 [==============================] - 0s 28ms/step - loss: 0.2666 - accuracy: 0.9696 - val_loss: 0.3437 - val_accuracy: 0.9020\n",
            "Epoch 32/60\n",
            "11/11 [==============================] - 0s 29ms/step - loss: 0.0428 - accuracy: 0.9854 - val_loss: 0.3142 - val_accuracy: 0.9314\n",
            "Epoch 33/60\n",
            "11/11 [==============================] - 0s 28ms/step - loss: 0.0024 - accuracy: 1.0000 - val_loss: 0.2907 - val_accuracy: 0.9412\n",
            "Epoch 34/60\n",
            "11/11 [==============================] - 0s 28ms/step - loss: 0.0010 - accuracy: 1.0000 - val_loss: 0.2773 - val_accuracy: 0.9412\n",
            "Epoch 35/60\n",
            "11/11 [==============================] - 0s 28ms/step - loss: 0.0013 - accuracy: 1.0000 - val_loss: 0.4338 - val_accuracy: 0.9118\n",
            "Epoch 36/60\n",
            "11/11 [==============================] - 0s 27ms/step - loss: 0.0065 - accuracy: 0.9988 - val_loss: 0.3664 - val_accuracy: 0.9216\n",
            "Epoch 37/60\n",
            "11/11 [==============================] - 0s 27ms/step - loss: 1.0252e-04 - accuracy: 1.0000 - val_loss: 0.3351 - val_accuracy: 0.9314\n",
            "Epoch 38/60\n",
            "11/11 [==============================] - 0s 28ms/step - loss: 1.3743e-04 - accuracy: 1.0000 - val_loss: 0.3653 - val_accuracy: 0.9118\n",
            "Epoch 39/60\n",
            "11/11 [==============================] - 0s 28ms/step - loss: 7.9554e-05 - accuracy: 1.0000 - val_loss: 0.3118 - val_accuracy: 0.9412\n",
            "Epoch 40/60\n",
            "11/11 [==============================] - 0s 28ms/step - loss: 0.2529 - accuracy: 0.9455 - val_loss: 0.3158 - val_accuracy: 0.9216\n",
            "Epoch 41/60\n",
            "11/11 [==============================] - 0s 29ms/step - loss: 0.0016 - accuracy: 1.0000 - val_loss: 0.3321 - val_accuracy: 0.9216\n",
            "Epoch 42/60\n",
            "11/11 [==============================] - 0s 29ms/step - loss: 8.5318e-04 - accuracy: 1.0000 - val_loss: 0.3395 - val_accuracy: 0.9118\n",
            "Epoch 43/60\n",
            "11/11 [==============================] - 0s 28ms/step - loss: 4.1620e-04 - accuracy: 1.0000 - val_loss: 0.3120 - val_accuracy: 0.9314\n",
            "Epoch 44/60\n",
            "11/11 [==============================] - 0s 28ms/step - loss: 1.9911e-04 - accuracy: 1.0000 - val_loss: 0.3548 - val_accuracy: 0.9314\n",
            "Epoch 45/60\n",
            "11/11 [==============================] - 0s 29ms/step - loss: 1.3116e-04 - accuracy: 1.0000 - val_loss: 0.3058 - val_accuracy: 0.9412\n",
            "Epoch 46/60\n",
            "11/11 [==============================] - 0s 28ms/step - loss: 9.7447e-05 - accuracy: 1.0000 - val_loss: 19.5850 - val_accuracy: 0.2843\n",
            "Epoch 47/60\n",
            "11/11 [==============================] - 0s 28ms/step - loss: 4.4263 - accuracy: 0.7601 - val_loss: 0.3589 - val_accuracy: 0.9020\n",
            "Epoch 48/60\n",
            "11/11 [==============================] - 0s 27ms/step - loss: 0.0168 - accuracy: 0.9980 - val_loss: 0.3746 - val_accuracy: 0.9118\n",
            "Epoch 49/60\n",
            "11/11 [==============================] - 0s 28ms/step - loss: 0.0035 - accuracy: 1.0000 - val_loss: 0.3746 - val_accuracy: 0.9118\n",
            "Epoch 50/60\n",
            "11/11 [==============================] - 0s 28ms/step - loss: 0.0034 - accuracy: 0.9988 - val_loss: 0.4106 - val_accuracy: 0.9216\n",
            "Epoch 51/60\n",
            "11/11 [==============================] - 0s 28ms/step - loss: 0.0019 - accuracy: 0.9996 - val_loss: 0.3386 - val_accuracy: 0.9216\n",
            "Epoch 52/60\n",
            "11/11 [==============================] - 0s 28ms/step - loss: 6.7745e-04 - accuracy: 1.0000 - val_loss: 0.5279 - val_accuracy: 0.9216\n",
            "Epoch 53/60\n",
            "11/11 [==============================] - 0s 28ms/step - loss: 0.0989 - accuracy: 0.9757 - val_loss: 0.3050 - val_accuracy: 0.9412\n",
            "Epoch 54/60\n",
            "11/11 [==============================] - 0s 29ms/step - loss: 0.0015 - accuracy: 1.0000 - val_loss: 0.2923 - val_accuracy: 0.9412\n",
            "Epoch 55/60\n",
            "11/11 [==============================] - 0s 29ms/step - loss: 5.3341e-04 - accuracy: 1.0000 - val_loss: 0.2878 - val_accuracy: 0.9412\n",
            "Epoch 56/60\n",
            "11/11 [==============================] - 0s 29ms/step - loss: 5.3045e-04 - accuracy: 1.0000 - val_loss: 0.4658 - val_accuracy: 0.9118\n",
            "Epoch 57/60\n",
            "11/11 [==============================] - 0s 28ms/step - loss: 1.3158e-04 - accuracy: 1.0000 - val_loss: 0.4666 - val_accuracy: 0.9216\n",
            "Epoch 58/60\n",
            "11/11 [==============================] - 0s 28ms/step - loss: 0.0016 - accuracy: 0.9996 - val_loss: 0.8526 - val_accuracy: 0.7941\n",
            "Epoch 59/60\n",
            "11/11 [==============================] - 0s 28ms/step - loss: 0.6569 - accuracy: 0.8943 - val_loss: 0.4686 - val_accuracy: 0.9020\n",
            "Epoch 60/60\n",
            "11/11 [==============================] - 0s 28ms/step - loss: 2.2134e-04 - accuracy: 1.0000 - val_loss: 0.4067 - val_accuracy: 0.9216\n",
            "Validation loss: 0.2099277824163437\n",
            "Validation accuracy: 0.9527559280395508\n"
          ],
          "name": "stdout"
        }
      ]
    },
    {
      "cell_type": "code",
      "metadata": {
        "id": "tz7sH8Ff8u9F"
      },
      "source": [
        "# モデル構造の保存\r\n",
        "open(SAVE_DATA_DIR_PATH + \"model_cnn.json\", \"w\").write(model.to_json())\r\n",
        "\r\n",
        "# 学習済みの重みを保存\r\n",
        "model.save_weights(SAVE_DATA_DIR_PATH + \"weight_cnn.hdf5\")\r\n",
        "\r\n",
        "# 学習履歴を保存\r\n",
        "with open(SAVE_DATA_DIR_PATH + \"history_cnn.json\", \"wb\") as f:\r\n",
        "    pickle.dump(history.history, f)"
      ],
      "execution_count": 11,
      "outputs": []
    },
    {
      "cell_type": "code",
      "metadata": {
        "id": "GCJXXfQB6xkW"
      },
      "source": [
        "from matplotlib import pyplot as plt\r\n",
        "\r\n",
        "\r\n",
        "def plot_history(history,\r\n",
        "                 save_graph_img_path,\r\n",
        "                 fig_size_width,\r\n",
        "                 fig_size_height,\r\n",
        "                 lim_font_size):\r\n",
        "    acc = history.history[\"accuracy\"]\r\n",
        "    val_acc = history.history[\"val_accuracy\"]\r\n",
        "    loss = history.history[\"loss\"]\r\n",
        "    val_loss = history.history[\"val_loss\"]\r\n",
        "\r\n",
        "    epochs = range(len(acc))\r\n",
        "\r\n",
        "    # グラフ表示\r\n",
        "    plt.figure(figsize=(fig_size_width, fig_size_height))\r\n",
        "    # plt.rcParams[\"font.family\"] = \"Times New Roman\"\r\n",
        "    plt.rcParams[\"font.size\"] = lim_font_size\r\n",
        "    plt.subplot(121)\r\n",
        "\r\n",
        "    # plot accuracy values\r\n",
        "    plt.plot(epochs, acc, color=\"blue\", linestyle=\"solid\", label=\"train acc\")\r\n",
        "    plt.plot(epochs, val_acc, color=\"green\", linestyle=\"solid\", label=\"valid acc\")\r\n",
        "    plt.title(\"Training and Validation acc\")\r\n",
        "    plt.grid()\r\n",
        "    plt.legend()\r\n",
        "\r\n",
        "    # plot loss values\r\n",
        "    # plt.subplot(122)\r\n",
        "    plt.plot(epochs, loss, color=\"red\", linestyle=\"solid\", label=\"train loss\")\r\n",
        "    plt.plot(epochs, val_loss, color=\"orange\", linestyle=\"solid\", label=\"valid loss\")\r\n",
        "    plt.title(\"Training and Validation loss\")\r\n",
        "    plt.legend()\r\n",
        "    plt.grid()\r\n",
        "\r\n",
        "    plt.savefig(save_graph_img_path)\r\n",
        "    plt.close()"
      ],
      "execution_count": 12,
      "outputs": []
    },
    {
      "cell_type": "code",
      "metadata": {
        "id": "gcPFEK6g7ccv"
      },
      "source": [
        "\r\n",
        "# 学習過程をプロット\r\n",
        "plot_history(history,\r\n",
        "              save_graph_img_path=SAVE_DATA_DIR_PATH + \"graph.png\",\r\n",
        "              fig_size_width=FIG_SIZE_WIDTH,\r\n",
        "              fig_size_height=FIG_SIZE_HEIGHT,\r\n",
        "              lim_font_size=FIG_FONT_SIZE)"
      ],
      "execution_count": 13,
      "outputs": []
    },
    {
      "cell_type": "code",
      "metadata": {
        "id": "h5n7qNDxTE97"
      },
      "source": [
        "def disp_result_sk(result, y_test):\r\n",
        "    from sklearn import metrics\r\n",
        "\r\n",
        "    label_name_list = [\"Consomme-Punch\", \"Kyushu-Shoyu\", \"Nori-Shio\", \"Nori-Shio-Punch\", \"Shiawase-Butter\",\r\n",
        "                       \"Shoyu-Mayo\", \"Usu-Shio\"]\r\n",
        "\r\n",
        "    ac_score = metrics.accuracy_score(y_test, result)\r\n",
        "\r\n",
        "    cl_report = metrics.classification_report(y_test, result, target_names=label_name_list)\r\n",
        "    conf_matrix = metrics.confusion_matrix(y_test, result)\r\n",
        "\r\n",
        "    print(\"正解率= \", ac_score)\r\n",
        "    print(\"レポート= \\n\", cl_report)\r\n",
        "    print(\"Confusion Matrix= \\n\", conf_matrix)\r\n",
        "    plot_heatmap(matrix=conf_matrix)\r\n",
        "\r\n",
        "\r\n",
        "def plot_heatmap(matrix):\r\n",
        "    import seaborn as sns\r\n",
        "    import matplotlib.pyplot as plt\r\n",
        "    \r\n",
        "    import pandas as pd\r\n",
        "\r\n",
        "    conf_matrix_df = pd.DataFrame(matrix)\r\n",
        "\r\n",
        "    sns.heatmap(conf_matrix_df, annot=True, fmt=\"d\")\r\n",
        "    plt.xlabel(\"Prediction\")\r\n",
        "    plt.ylabel(\"Correct\")\r\n",
        "    plt.suptitle(\"Confusion_Matrix\")\r\n",
        "    plt.show()"
      ],
      "execution_count": 14,
      "outputs": []
    },
    {
      "cell_type": "code",
      "metadata": {
        "id": "JmlYUqewTZy6",
        "colab": {
          "base_uri": "https://localhost:8080/",
          "height": 829
        },
        "outputId": "1f336373-1981-4be9-bc5e-eb46236ceee2"
      },
      "source": [
        "predict=model.predict_classes(x_test)\r\n",
        "disp_result_sk(result=predict,y_test=y_test_before)\r\n"
      ],
      "execution_count": 15,
      "outputs": [
        {
          "output_type": "stream",
          "text": [
            "/usr/local/lib/python3.6/dist-packages/tensorflow/python/keras/engine/sequential.py:450: UserWarning: `model.predict_classes()` is deprecated and will be removed after 2021-01-01. Please use instead:* `np.argmax(model.predict(x), axis=-1)`,   if your model does multi-class classification   (e.g. if it uses a `softmax` last-layer activation).* `(model.predict(x) > 0.5).astype(\"int32\")`,   if your model does binary classification   (e.g. if it uses a `sigmoid` last-layer activation).\n",
            "  warnings.warn('`model.predict_classes()` is deprecated and '\n"
          ],
          "name": "stderr"
        },
        {
          "output_type": "stream",
          "text": [
            "正解率=  0.952755905511811\n",
            "レポート= \n",
            "                  precision    recall  f1-score   support\n",
            "\n",
            " Consomme-Punch       0.86      0.96      0.91        25\n",
            "   Kyushu-Shoyu       1.00      0.94      0.97        32\n",
            "      Nori-Shio       0.96      0.98      0.97        44\n",
            "Nori-Shio-Punch       0.93      0.93      0.93        44\n",
            "Shiawase-Butter       1.00      1.00      1.00        36\n",
            "     Shoyu-Mayo       0.91      0.89      0.90        36\n",
            "       Usu-Shio       1.00      0.97      0.99        37\n",
            "\n",
            "       accuracy                           0.95       254\n",
            "      macro avg       0.95      0.95      0.95       254\n",
            "   weighted avg       0.95      0.95      0.95       254\n",
            "\n",
            "Confusion Matrix= \n",
            " [[24  0  0  1  0  0  0]\n",
            " [ 2 30  0  0  0  0  0]\n",
            " [ 0  0 43  0  0  1  0]\n",
            " [ 0  0  2 41  0  1  0]\n",
            " [ 0  0  0  0 36  0  0]\n",
            " [ 2  0  0  2  0 32  0]\n",
            " [ 0  0  0  0  0  1 36]]\n"
          ],
          "name": "stdout"
        },
        {
          "output_type": "display_data",
          "data": {
            "image/png": "[encoded data removed]",
            "text/plain": [
              "<Figure size 432x288 with 2 Axes>"
            ]
          },
          "metadata": {
            "tags": [],
            "needs_background": "light"
          }
        }
      ]
    },
    {
      "cell_type": "code",
      "metadata": {
        "colab": {
          "base_uri": "https://localhost:8080/",
          "height": 829
        },
        "id": "csGJQhZgW6O1",
        "outputId": "cf6e3b74-1f11-4691-e81d-d6ea58e6e986"
      },
      "source": [
        "predict=model.predict_classes(x_train)\r\n",
        "disp_result_sk(result=predict,y_test=y_train_before)\r\n"
      ],
      "execution_count": 16,
      "outputs": [
        {
          "output_type": "stream",
          "text": [
            "/usr/local/lib/python3.6/dist-packages/tensorflow/python/keras/engine/sequential.py:450: UserWarning: `model.predict_classes()` is deprecated and will be removed after 2021-01-01. Please use instead:* `np.argmax(model.predict(x), axis=-1)`,   if your model does multi-class classification   (e.g. if it uses a `softmax` last-layer activation).* `(model.predict(x) > 0.5).astype(\"int32\")`,   if your model does binary classification   (e.g. if it uses a `sigmoid` last-layer activation).\n",
            "  warnings.warn('`model.predict_classes()` is deprecated and '\n"
          ],
          "name": "stderr"
        },
        {
          "output_type": "stream",
          "text": [
            "正解率=  0.9921182266009853\n",
            "レポート= \n",
            "                  precision    recall  f1-score   support\n",
            "\n",
            " Consomme-Punch       0.99      0.98      0.99       163\n",
            "   Kyushu-Shoyu       1.00      0.99      1.00       138\n",
            "      Nori-Shio       0.99      1.00      0.99       158\n",
            "Nori-Shio-Punch       0.99      0.99      0.99       134\n",
            "Shiawase-Butter       0.99      1.00      1.00       130\n",
            "     Shoyu-Mayo       0.99      0.99      0.99       139\n",
            "       Usu-Shio       1.00      0.99      0.99       153\n",
            "\n",
            "       accuracy                           0.99      1015\n",
            "      macro avg       0.99      0.99      0.99      1015\n",
            "   weighted avg       0.99      0.99      0.99      1015\n",
            "\n",
            "Confusion Matrix= \n",
            " [[160   0   2   0   0   1   0]\n",
            " [  0 137   0   0   1   0   0]\n",
            " [  0   0 158   0   0   0   0]\n",
            " [  0   0   0 133   0   1   0]\n",
            " [  0   0   0   0 130   0   0]\n",
            " [  1   0   0   0   0 138   0]\n",
            " [  0   0   0   2   0   0 151]]\n"
          ],
          "name": "stdout"
        },
        {
          "output_type": "display_data",
          "data": {
            "image/png": "[encoded data removed]",
            "text/plain": [
              "<Figure size 432x288 with 2 Axes>"
            ]
          },
          "metadata": {
            "tags": [],
            "needs_background": "light"
          }
        }
      ]
    },
    {
      "cell_type": "code",
      "metadata": {
        "id": "HAWMlXjnYUtO",
        "colab": {
          "base_uri": "https://localhost:8080/"
        },
        "outputId": "b8d31699-14c6-4c8f-f89b-4172dc22d2d4"
      },
      "source": [
        "model.predict_classes(x_test)"
      ],
      "execution_count": 17,
      "outputs": [
        {
          "output_type": "stream",
          "text": [
            "/usr/local/lib/python3.6/dist-packages/tensorflow/python/keras/engine/sequential.py:450: UserWarning: `model.predict_classes()` is deprecated and will be removed after 2021-01-01. Please use instead:* `np.argmax(model.predict(x), axis=-1)`,   if your model does multi-class classification   (e.g. if it uses a `softmax` last-layer activation).* `(model.predict(x) > 0.5).astype(\"int32\")`,   if your model does binary classification   (e.g. if it uses a `sigmoid` last-layer activation).\n",
            "  warnings.warn('`model.predict_classes()` is deprecated and '\n"
          ],
          "name": "stderr"
        },
        {
          "output_type": "execute_result",
          "data": {
            "text/plain": [
              "array([1, 4, 6, 2, 2, 5, 0, 3, 2, 0, 1, 0, 1, 6, 5, 4, 0, 5, 5, 3, 2, 1,\n",
              "       0, 6, 4, 2, 2, 4, 6, 2, 0, 0, 0, 5, 0, 4, 2, 3, 0, 3, 1, 3, 6, 3,\n",
              "       6, 4, 6, 4, 2, 6, 4, 6, 6, 2, 3, 5, 1, 3, 3, 6, 4, 2, 4, 0, 0, 0,\n",
              "       1, 5, 1, 2, 0, 1, 6, 4, 6, 4, 1, 6, 2, 3, 5, 2, 0, 5, 2, 4, 3, 5,\n",
              "       2, 6, 2, 3, 2, 6, 5, 3, 5, 5, 3, 1, 6, 5, 6, 0, 1, 2, 2, 5, 0, 2,\n",
              "       1, 2, 1, 5, 5, 1, 0, 1, 4, 5, 6, 4, 4, 5, 0, 6, 2, 0, 3, 2, 6, 6,\n",
              "       6, 5, 5, 3, 4, 4, 6, 3, 3, 4, 1, 3, 3, 5, 3, 2, 4, 3, 2, 3, 2, 0,\n",
              "       3, 6, 0, 4, 5, 1, 2, 2, 3, 2, 6, 6, 0, 0, 4, 5, 2, 2, 1, 6, 5, 2,\n",
              "       3, 3, 5, 5, 1, 2, 4, 1, 5, 4, 0, 3, 6, 1, 1, 4, 3, 5, 0, 4, 4, 3,\n",
              "       3, 3, 4, 5, 3, 1, 6, 3, 0, 2, 5, 0, 2, 1, 4, 2, 1, 1, 3, 6, 4, 6,\n",
              "       4, 1, 6, 2, 2, 5, 5, 4, 4, 2, 2, 4, 3, 2, 6, 5, 1, 5, 1, 3, 4, 3,\n",
              "       3, 6, 3, 3, 2, 4, 2, 3, 3, 2, 6, 3])"
            ]
          },
          "metadata": {
            "tags": []
          },
          "execution_count": 17
        }
      ]
    },
    {
      "cell_type": "code",
      "metadata": {
        "id": "lf4rBPydYlYf",
        "colab": {
          "base_uri": "https://localhost:8080/"
        },
        "outputId": "b6ab429e-68d1-4533-c7c1-0a649b97da11"
      },
      "source": [
        "y_test"
      ],
      "execution_count": 18,
      "outputs": [
        {
          "output_type": "execute_result",
          "data": {
            "text/plain": [
              "array([[0., 1., 0., ..., 0., 0., 0.],\n",
              "       [0., 0., 0., ..., 1., 0., 0.],\n",
              "       [0., 0., 0., ..., 0., 0., 1.],\n",
              "       ...,\n",
              "       [0., 0., 1., ..., 0., 0., 0.],\n",
              "       [0., 0., 0., ..., 0., 0., 1.],\n",
              "       [0., 0., 0., ..., 0., 0., 0.]], dtype=float32)"
            ]
          },
          "metadata": {
            "tags": []
          },
          "execution_count": 18
        }
      ]
    },
    {
      "cell_type": "code",
      "metadata": {
        "id": "zG0AweUdY8GH",
        "colab": {
          "base_uri": "https://localhost:8080/"
        },
        "outputId": "504cf5ad-0718-4ff1-df52-b62cb922c157"
      },
      "source": [
        "predict==y_test"
      ],
      "execution_count": 19,
      "outputs": [
        {
          "output_type": "stream",
          "text": [
            "/usr/local/lib/python3.6/dist-packages/ipykernel_launcher.py:1: DeprecationWarning: elementwise comparison failed; this will raise an error in the future.\n",
            "  \"\"\"Entry point for launching an IPython kernel.\n"
          ],
          "name": "stderr"
        },
        {
          "output_type": "execute_result",
          "data": {
            "text/plain": [
              "False"
            ]
          },
          "metadata": {
            "tags": []
          },
          "execution_count": 19
        }
      ]
    },
    {
      "cell_type": "markdown",
      "metadata": {
        "id": "e94fCjatsFG7"
      },
      "source": [
        "**↓最終判定**"
      ]
    },
    {
      "cell_type": "code",
      "metadata": {
        "id": "0n7yhiRVLrRt"
      },
      "source": [
        "# 保存したモデルの読み込み\r\n",
        "from keras.models import model_from_json\r\n",
        "\r\n",
        "model = model_from_json(open(SAVE_DATA_DIR_PATH + \"model_cnn_64_64_best.json\",\"r\").read())\r\n",
        "model.load_weights(SAVE_DATA_DIR_PATH + \"weight_cnn_64_64_best.hdf5\")\r\n",
        "\r\n",
        "model.compile(loss=\"categorical_crossentropy\", optimizer=RMSprop(), metrics=[\"accuracy\"])\r\n"
      ],
      "execution_count": 20,
      "outputs": []
    },
    {
      "cell_type": "code",
      "metadata": {
        "id": "1BxPfxa9lPtf"
      },
      "source": [
        "# テストデータの読み込み\r\n",
        "\r\n",
        "TEST_DATA_DIR_PATH=\"/content/drive/MyDrive/Hackason_E_team/image/test/\"\r\n",
        "\r\n",
        "\r\n",
        "test_data_x = []  # データ本体\r\n",
        "test_data_y = []  # 正解ラベル\r\n",
        "num_classes = 7\r\n",
        "\r\n",
        "# クラス0(コンソメパンチ)の画像データ群を読み込み\r\n",
        "for filepath in list_imgs(TEST_DATA_DIR_PATH + \"csp\"):\r\n",
        "    img = img_to_array(load_img(filepath, target_size=(img_width, img_height, img_ch)))\r\n",
        "    # img = img_to_array(load_img(filepath, grayscale=True,target_size=(img_width, img_height)))\r\n",
        "    test_data_x.append(img)\r\n",
        "    test_data_y.append(0)  # 正解ラベル\r\n",
        "\r\n",
        "# クラス1(九州しょうゆ)の画像データ群を読み込み\r\n",
        "for filepath in list_imgs(TEST_DATA_DIR_PATH + \"kss\"):\r\n",
        "    img = img_to_array(load_img(filepath, target_size=(img_width, img_height, img_ch)))\r\n",
        "    # img = img_to_array(load_img(filepath, grayscale=True,target_size=(img_width, img_height)))\r\n",
        "    test_data_x.append(img)\r\n",
        "    test_data_y.append(1)  # 正解ラベル\r\n",
        "\r\n",
        "# クラス2(のりしお)の画像データ群を読み込み\r\n",
        "for filepath in list_imgs(TEST_DATA_DIR_PATH + \"nrs\"):\r\n",
        "    img = img_to_array(load_img(filepath, target_size=(img_width, img_height, img_ch)))\r\n",
        "    # img = img_to_array(load_img(filepath, grayscale=True,target_size=(img_width, img_height)))\r\n",
        "    test_data_x.append(img)\r\n",
        "    test_data_y.append(2)  # 正解ラベル\r\n",
        "\r\n",
        "# クラス3(のりしおパンチ)の画像データ群を読み込み\r\n",
        "for filepath in list_imgs(TEST_DATA_DIR_PATH + \"nrp\"):\r\n",
        "    img = img_to_array(load_img(filepath, target_size=(img_width, img_height, img_ch)))\r\n",
        "    # img = img_to_array(load_img(filepath, grayscale=True,target_size=(img_width, img_height)))\r\n",
        "    test_data_x.append(img)\r\n",
        "    test_data_y.append(3)  # 正解ラベル\r\n",
        "\r\n",
        "# クラス4(しあわせバター)の画像データ群を読み込み\r\n",
        "for filepath in list_imgs(TEST_DATA_DIR_PATH + \"swb\"):\r\n",
        "    img = img_to_array(load_img(filepath, target_size=(img_width, img_height, img_ch)))\r\n",
        "    # img = img_to_array(load_img(filepath, grayscale=True,target_size=(img_width, img_height)))\r\n",
        "    test_data_x.append(img)\r\n",
        "    test_data_y.append(4)  # 正解ラベル\r\n",
        "\r\n",
        "# クラス5(しょうゆマヨ)の画像データ群を読み込み\r\n",
        "for filepath in list_imgs(TEST_DATA_DIR_PATH + \"shm\"):\r\n",
        "    img = img_to_array(load_img(filepath, target_size=(img_width, img_height, img_ch)))\r\n",
        "    # img = img_to_array(load_img(filepath, grayscale=True,target_size=(img_width, img_height)))\r\n",
        "    test_data_x.append(img)\r\n",
        "    test_data_y.append(5)  # 正解ラベル\r\n",
        "\r\n",
        "# クラス6(うすしお)の画像データ群を読み込み\r\n",
        "for filepath in list_imgs(TEST_DATA_DIR_PATH + \"usu\"):\r\n",
        "    img = img_to_array(load_img(filepath, target_size=(img_width, img_height, img_ch)))\r\n",
        "    # img = img_to_array(load_img(filepath, grayscale=True,target_size=(img_width, img_height)))\r\n",
        "    test_data_x.append(img)\r\n",
        "    test_data_y.append(6)  # 正解ラベル"
      ],
      "execution_count": 21,
      "outputs": []
    },
    {
      "cell_type": "code",
      "metadata": {
        "id": "3x2Y_nx-pIrp"
      },
      "source": [
        "# NumPy配列に変換\r\n",
        "test_data_x = np.asarray(test_data_x)\r\n",
        "test_data_y = np.asarray(test_data_y)\r\n",
        "\r\n",
        "test_data_y_before=test_data_y\r\n",
        "\r\n",
        "\r\n",
        "# float32に変換、正規化\r\n",
        "test_data_x = test_data_x.astype(\"float32\")\r\n",
        "\r\n",
        "test_data_x /= 255\r\n"
      ],
      "execution_count": 22,
      "outputs": []
    },
    {
      "cell_type": "code",
      "metadata": {
        "id": "60jyRs5BqWDA",
        "colab": {
          "base_uri": "https://localhost:8080/"
        },
        "outputId": "75b7a7db-4748-46b6-801a-82d275dc7c57"
      },
      "source": [
        "# 正解ラベルを\"one-hot encoding\"\r\n",
        "test_data_y = to_categorical(test_data_y, num_classes)\r\n",
        "\r\n",
        "\r\n",
        "# データセットの個数を表示\r\n",
        "print(test_data_x.shape, \"test_data_x samples\")\r\n",
        "print(test_data_y.shape, \"test_data_y samples\")"
      ],
      "execution_count": 23,
      "outputs": [
        {
          "output_type": "stream",
          "text": [
            "(304, 64, 64, 3) test_data_x samples\n",
            "(304, 7) test_data_y samples\n"
          ],
          "name": "stdout"
        }
      ]
    },
    {
      "cell_type": "code",
      "metadata": {
        "id": "tihdtZy7rEEd",
        "colab": {
          "base_uri": "https://localhost:8080/"
        },
        "outputId": "8251aa2d-131e-4210-ff8c-d87247ae98b0"
      },
      "source": [
        "# 最終判定\r\n",
        "\r\n",
        "# テスト用データセットで学習済分類器に入力し、パフォーマンス計測\r\n",
        "score = model.evaluate(test_data_x,test_data_y,verbose=0)\r\n",
        "# print(score)\r\n",
        "# 結果表示\r\n",
        "# 損失値(値が小さいほど良い)\r\n",
        "print(\"Test loss:\", score[0])\r\n",
        "\r\n",
        "# 正答率(値が大きいほど良い)\r\n",
        "print(\"Test accuracy:\", score[1])\r\n"
      ],
      "execution_count": 24,
      "outputs": [
        {
          "output_type": "stream",
          "text": [
            "Test loss: 0.45806804299354553\n",
            "Test accuracy: 0.9605262875556946\n"
          ],
          "name": "stdout"
        }
      ]
    },
    {
      "cell_type": "code",
      "metadata": {
        "id": "F8p-RNexre3h",
        "colab": {
          "base_uri": "https://localhost:8080/",
          "height": 829
        },
        "outputId": "0ac30032-bdf0-41f5-f069-cc5c88fc44ce"
      },
      "source": [
        "# 混合行列作成\r\n",
        "\r\n",
        "predict=model.predict_classes(test_data_x)\r\n",
        "disp_result_sk(result=predict,y_test=test_data_y_before)\r\n",
        "\r\n"
      ],
      "execution_count": 25,
      "outputs": [
        {
          "output_type": "stream",
          "text": [
            "正解率=  0.9605263157894737\n",
            "レポート= \n",
            "                  precision    recall  f1-score   support\n",
            "\n",
            " Consomme-Punch       0.90      0.98      0.94        46\n",
            "   Kyushu-Shoyu       0.95      0.88      0.91        41\n",
            "      Nori-Shio       1.00      1.00      1.00        49\n",
            "Nori-Shio-Punch       0.95      0.90      0.93        42\n",
            "Shiawase-Butter       1.00      1.00      1.00        39\n",
            "     Shoyu-Mayo       0.95      0.98      0.96        42\n",
            "       Usu-Shio       0.98      0.98      0.98        45\n",
            "\n",
            "       accuracy                           0.96       304\n",
            "      macro avg       0.96      0.96      0.96       304\n",
            "   weighted avg       0.96      0.96      0.96       304\n",
            "\n",
            "Confusion Matrix= \n",
            " [[45  0  0  1  0  0  0]\n",
            " [ 3 36  0  0  0  2  0]\n",
            " [ 0  0 49  0  0  0  0]\n",
            " [ 2  1  0 38  0  0  1]\n",
            " [ 0  0  0  0 39  0  0]\n",
            " [ 0  1  0  0  0 41  0]\n",
            " [ 0  0  0  1  0  0 44]]\n"
          ],
          "name": "stdout"
        },
        {
          "output_type": "stream",
          "text": [
            "/usr/local/lib/python3.6/dist-packages/tensorflow/python/keras/engine/sequential.py:450: UserWarning: `model.predict_classes()` is deprecated and will be removed after 2021-01-01. Please use instead:* `np.argmax(model.predict(x), axis=-1)`,   if your model does multi-class classification   (e.g. if it uses a `softmax` last-layer activation).* `(model.predict(x) > 0.5).astype(\"int32\")`,   if your model does binary classification   (e.g. if it uses a `sigmoid` last-layer activation).\n",
            "  warnings.warn('`model.predict_classes()` is deprecated and '\n"
          ],
          "name": "stderr"
        },
        {
          "output_type": "display_data",
          "data": {
            "image/png": "[encoded data removed]",
            "text/plain": [
              "<Figure size 432x288 with 2 Axes>"
            ]
          },
          "metadata": {
            "tags": [],
            "needs_background": "light"
          }
        }
      ]
    }
  ]
}
